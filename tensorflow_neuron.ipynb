{
 "cells": [
  {
   "cell_type": "code",
   "execution_count": 1,
   "metadata": {},
   "outputs": [],
   "source": [
    "import numpy as np\n",
    "np.random.seed(42)\n",
    "import tensorflow as tf\n",
    "tf.set_random_seed(42)\n",
    "import matplotlib.pyplot as plt\n",
    "%matplotlib inline"
   ]
  },
  {
   "cell_type": "code",
   "execution_count": 2,
   "metadata": {},
   "outputs": [],
   "source": [
    "n_input=784\n",
    "n_dense=128"
   ]
  },
  {
   "cell_type": "code",
   "execution_count": 3,
   "metadata": {},
   "outputs": [],
   "source": [
    "x=tf.placeholder(tf.float32,[None,n_input])"
   ]
  },
  {
   "cell_type": "code",
   "execution_count": 4,
   "metadata": {},
   "outputs": [],
   "source": [
    "b = tf.Variable(tf.zeros([n_dense]))\n",
    "#w = tf.Variable(tf.random_uniform([n_input, n_dense])) # 1.\n",
    "w = tf.Variable(tf.random_normal([n_input, n_dense])) # 2.\n",
    "# W = tf.get_variable('W', [n_input, n_dense], \n",
    "#                     initializer=tf.contrib.layers.xavier_initializer())"
   ]
  },
  {
   "cell_type": "code",
   "execution_count": 5,
   "metadata": {},
   "outputs": [],
   "source": [
    "z=tf.add(tf.matmul(x,w),b)\n",
    "a=tf.sigmoid(z)"
   ]
  },
  {
   "cell_type": "code",
   "execution_count": 6,
   "metadata": {},
   "outputs": [],
   "source": [
    "initializer_op = tf.global_variables_initializer()"
   ]
  },
  {
   "cell_type": "code",
   "execution_count": 7,
   "metadata": {},
   "outputs": [],
   "source": [
    "with tf.Session() as session:\n",
    "    session.run(initializer_op)\n",
    "    \n",
    "    layer_output = session.run(a, {x: np.random.random([1, n_input])})"
   ]
  },
  {
   "cell_type": "code",
   "execution_count": 8,
   "metadata": {},
   "outputs": [
    {
     "data": {
      "text/plain": [
       "array([[1.0273849e-01, 8.1997406e-01, 6.2541074e-01, 7.1686767e-02,\n",
       "        3.9929855e-06, 7.1390605e-06, 1.9051755e-02, 1.0000000e+00,\n",
       "        7.3247327e-15, 4.8829074e-04, 9.5151068e-04, 8.9370360e-04,\n",
       "        9.2078977e-07, 1.1940625e-21, 1.7445226e-14, 9.9892020e-01,\n",
       "        7.7547797e-05, 1.3032133e-06, 1.5050368e-07, 9.9964225e-01,\n",
       "        3.5856368e-14, 1.0000000e+00, 2.8434002e-05, 1.8535648e-04,\n",
       "        2.8044724e-08, 2.5567049e-05, 9.9999833e-01, 9.9999726e-01,\n",
       "        9.8932731e-01, 9.9406707e-01, 9.9999976e-01, 2.9879643e-02,\n",
       "        9.8836786e-01, 2.0324131e-05, 3.1429316e-13, 1.1573922e-08,\n",
       "        9.9999988e-01, 1.2735889e-04, 1.0000000e+00, 9.6726894e-01,\n",
       "        1.0000000e+00, 9.2273660e-04, 9.9999917e-01, 1.2313170e-07,\n",
       "        9.9980634e-01, 9.9997556e-01, 9.9999988e-01, 7.1829158e-01,\n",
       "        9.9419194e-01, 1.3443455e-05, 1.0000000e+00, 9.6150678e-01,\n",
       "        9.4821650e-01, 1.3848968e-03, 9.4725150e-01, 7.9315044e-03,\n",
       "        1.3349911e-06, 1.5100132e-05, 9.8891848e-01, 6.2399930e-10,\n",
       "        3.6637688e-05, 9.9700040e-01, 1.0000000e+00, 1.2055456e-05,\n",
       "        9.6688407e-17, 2.3888040e-01, 3.5503921e-01, 9.9999332e-01,\n",
       "        1.0000000e+00, 5.0188285e-09, 1.2856127e-06, 9.9997056e-01,\n",
       "        9.3583149e-01, 8.0263973e-10, 2.1288561e-05, 2.5023171e-01,\n",
       "        9.9990308e-01, 9.3874866e-01, 2.2072492e-02, 3.8913317e-11,\n",
       "        2.6789871e-03, 1.0000000e+00, 5.7257424e-15, 9.0808735e-06,\n",
       "        9.9969935e-01, 6.4463121e-01, 4.5582726e-07, 9.9999988e-01,\n",
       "        1.9431162e-08, 8.9054710e-01, 5.2381778e-01, 3.6067548e-11,\n",
       "        8.0998987e-05, 9.9839705e-01, 9.9998558e-01, 2.2488675e-04,\n",
       "        9.9187356e-01, 6.1092699e-01, 5.9064537e-01, 1.2973219e-02,\n",
       "        2.2020828e-08, 3.0471188e-01, 9.9699891e-01, 9.9999952e-01,\n",
       "        9.9999654e-01, 9.9999535e-01, 9.6558803e-01, 6.3345875e-09,\n",
       "        6.5652275e-06, 7.1698949e-02, 9.9860758e-01, 9.9504060e-01,\n",
       "        1.3941610e-06, 9.9753618e-01, 1.9695435e-05, 5.2133974e-02,\n",
       "        9.3075156e-01, 9.5869696e-01, 9.9996948e-01, 6.0504645e-01,\n",
       "        6.6380871e-08, 4.3445427e-04, 9.5915318e-01, 3.8906662e-03,\n",
       "        1.0000000e+00, 1.8510115e-01, 9.9998200e-01, 9.9920064e-01]],\n",
       "      dtype=float32)"
      ]
     },
     "execution_count": 8,
     "metadata": {},
     "output_type": "execute_result"
    }
   ],
   "source": [
    "layer_output"
   ]
  },
  {
   "cell_type": "code",
   "execution_count": 9,
   "metadata": {},
   "outputs": [
    {
     "data": {
      "image/png": "[encoded data removed]",
      "text/plain": [
       "<Figure size 432x288 with 1 Axes>"
      ]
     },
     "metadata": {
      "needs_background": "light"
     },
     "output_type": "display_data"
    }
   ],
   "source": [
    "_ = plt.hist(np.transpose(layer_output))"
   ]
  },
  {
   "cell_type": "code",
   "execution_count": null,
   "metadata": {},
   "outputs": [],
   "source": []
  }
 ],
 "metadata": {
  "kernelspec": {
   "display_name": "Python 3",
   "language": "python",
   "name": "python3"
  },
  "language_info": {
   "codemirror_mode": {
    "name": "ipython",
    "version": 3
   },
   "file_extension": ".py",
   "mimetype": "text/x-python",
   "name": "python",
   "nbconvert_exporter": "python",
   "pygments_lexer": "ipython3",
   "version": "3.6.7"
  }
 },
 "nbformat": 4,
 "nbformat_minor": 2
}
